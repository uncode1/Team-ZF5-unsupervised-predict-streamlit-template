{
 "cells": [
  {
   "cell_type": "code",
   "execution_count": 1,
   "id": "337f9475",
   "metadata": {
    "execution": {
     "iopub.execute_input": "2022-07-15T06:01:58.905464Z",
     "iopub.status.busy": "2022-07-15T06:01:58.904828Z",
     "iopub.status.idle": "2022-07-15T06:02:17.337385Z",
     "shell.execute_reply": "2022-07-15T06:02:17.335755Z"
    },
    "papermill": {
     "duration": 18.453539,
     "end_time": "2022-07-15T06:02:17.340091",
     "exception": false,
     "start_time": "2022-07-15T06:01:58.886552",
     "status": "completed"
    },
    "tags": []
   },
   "outputs": [
    {
     "name": "stdout",
     "output_type": "stream",
     "text": [
      "Collecting comet_ml\r\n",
      "  Downloading comet_ml-3.31.6-py2.py3-none-any.whl (372 kB)\r\n",
      "\u001b[2K     \u001b[90m━━━━━━━━━━━━━━━━━━━━━━━━━━━━━━━━━━━━━━━\u001b[0m \u001b[32m372.4/372.4 kB\u001b[0m \u001b[31m7.3 MB/s\u001b[0m eta \u001b[36m0:00:00\u001b[0m\r\n",
      "\u001b[?25hCollecting wurlitzer>=1.0.2\r\n",
      "  Downloading wurlitzer-3.0.2-py3-none-any.whl (7.3 kB)\r\n",
      "Collecting semantic-version>=2.8.0\r\n",
      "  Downloading semantic_version-2.10.0-py2.py3-none-any.whl (15 kB)\r\n",
      "Requirement already satisfied: jsonschema!=3.1.0,>=2.6.0 in /opt/conda/lib/python3.7/site-packages (from comet_ml) (4.5.1)\r\n",
      "Requirement already satisfied: sentry-sdk>=1.1.0 in /opt/conda/lib/python3.7/site-packages (from comet_ml) (1.6.0)\r\n",
      "Requirement already satisfied: websocket-client>=0.55.0 in /opt/conda/lib/python3.7/site-packages (from comet_ml) (1.3.2)\r\n",
      "Requirement already satisfied: six in /opt/conda/lib/python3.7/site-packages (from comet_ml) (1.16.0)\r\n",
      "Requirement already satisfied: requests>=2.18.4 in /opt/conda/lib/python3.7/site-packages (from comet_ml) (2.27.1)\r\n",
      "Collecting nvidia-ml-py3>=7.352.0\r\n",
      "  Downloading nvidia-ml-py3-7.352.0.tar.gz (19 kB)\r\n",
      "  Preparing metadata (setup.py) ... \u001b[?25l-\b \bdone\r\n",
      "\u001b[?25hCollecting requests-toolbelt>=0.8.0\r\n",
      "  Downloading requests_toolbelt-0.9.1-py2.py3-none-any.whl (54 kB)\r\n",
      "\u001b[2K     \u001b[90m━━━━━━━━━━━━━━━━━━━━━━━━━━━━━━━━━━━━━━━━\u001b[0m \u001b[32m54.3/54.3 kB\u001b[0m \u001b[31m4.3 MB/s\u001b[0m eta \u001b[36m0:00:00\u001b[0m\r\n",
      "\u001b[?25hCollecting everett[ini]>=1.0.1\r\n",
      "  Downloading everett-3.0.0-py2.py3-none-any.whl (35 kB)\r\n",
      "Requirement already satisfied: wrapt>=1.11.2 in /opt/conda/lib/python3.7/site-packages (from comet_ml) (1.14.1)\r\n",
      "Collecting dulwich!=0.20.33,>=0.20.6\r\n",
      "  Downloading dulwich-0.20.44-cp37-cp37m-manylinux_2_5_x86_64.manylinux1_x86_64.manylinux_2_12_x86_64.manylinux2010_x86_64.whl (554 kB)\r\n",
      "\u001b[2K     \u001b[90m━━━━━━━━━━━━━━━━━━━━━━━━━━━━━━━━━━━━━━\u001b[0m \u001b[32m554.3/554.3 kB\u001b[0m \u001b[31m25.4 MB/s\u001b[0m eta \u001b[36m0:00:00\u001b[0m\r\n",
      "\u001b[?25hRequirement already satisfied: certifi in /opt/conda/lib/python3.7/site-packages (from dulwich!=0.20.33,>=0.20.6->comet_ml) (2022.6.15)\r\n",
      "Requirement already satisfied: urllib3>=1.24.1 in /opt/conda/lib/python3.7/site-packages (from dulwich!=0.20.33,>=0.20.6->comet_ml) (1.26.9)\r\n",
      "Collecting configobj\r\n",
      "  Downloading configobj-5.0.6.tar.gz (33 kB)\r\n",
      "  Preparing metadata (setup.py) ... \u001b[?25l-\b \bdone\r\n",
      "\u001b[?25hRequirement already satisfied: typing-extensions in /opt/conda/lib/python3.7/site-packages (from jsonschema!=3.1.0,>=2.6.0->comet_ml) (4.1.1)\r\n",
      "Requirement already satisfied: attrs>=17.4.0 in /opt/conda/lib/python3.7/site-packages (from jsonschema!=3.1.0,>=2.6.0->comet_ml) (21.4.0)\r\n",
      "Requirement already satisfied: importlib-metadata in /opt/conda/lib/python3.7/site-packages (from jsonschema!=3.1.0,>=2.6.0->comet_ml) (4.12.0)\r\n",
      "Requirement already satisfied: pyrsistent!=0.17.0,!=0.17.1,!=0.17.2,>=0.14.0 in /opt/conda/lib/python3.7/site-packages (from jsonschema!=3.1.0,>=2.6.0->comet_ml) (0.18.1)\r\n",
      "Requirement already satisfied: importlib-resources>=1.4.0 in /opt/conda/lib/python3.7/site-packages (from jsonschema!=3.1.0,>=2.6.0->comet_ml) (5.7.1)\r\n",
      "Requirement already satisfied: idna<4,>=2.5 in /opt/conda/lib/python3.7/site-packages (from requests>=2.18.4->comet_ml) (3.3)\r\n",
      "Requirement already satisfied: charset-normalizer~=2.0.0 in /opt/conda/lib/python3.7/site-packages (from requests>=2.18.4->comet_ml) (2.0.12)\r\n",
      "Requirement already satisfied: zipp>=3.1.0 in /opt/conda/lib/python3.7/site-packages (from importlib-resources>=1.4.0->jsonschema!=3.1.0,>=2.6.0->comet_ml) (3.8.0)\r\n",
      "Building wheels for collected packages: nvidia-ml-py3, configobj\r\n",
      "  Building wheel for nvidia-ml-py3 (setup.py) ... \u001b[?25l-\b \b\\\b \bdone\r\n",
      "\u001b[?25h  Created wheel for nvidia-ml-py3: filename=nvidia_ml_py3-7.352.0-py3-none-any.whl size=19190 sha256=7c49544ee98bee59a33cfec0b9e802ccc760c7744fe1b68c5154162888a4aaa1\r\n",
      "  Stored in directory: /root/.cache/pip/wheels/df/99/da/c34f202dc8fd1dffd35e0ecf1a7d7f8374ca05fbcbaf974b83\r\n",
      "  Building wheel for configobj (setup.py) ... \u001b[?25l-\b \b\\\b \bdone\r\n",
      "\u001b[?25h  Created wheel for configobj: filename=configobj-5.0.6-py3-none-any.whl size=34547 sha256=5a96f2dace2f9ab0687c947fb4d08b2b413f0ee72c8fe10b6ff1a0215afbdc3a\r\n",
      "  Stored in directory: /root/.cache/pip/wheels/0d/c4/19/13d74440f2a571841db6b6e0a273694327498884dafb9cf978\r\n",
      "Successfully built nvidia-ml-py3 configobj\r\n",
      "Installing collected packages: nvidia-ml-py3, everett, wurlitzer, semantic-version, dulwich, configobj, requests-toolbelt, comet_ml\r\n",
      "Successfully installed comet_ml-3.31.6 configobj-5.0.6 dulwich-0.20.44 everett-3.0.0 nvidia-ml-py3-7.352.0 requests-toolbelt-0.9.1 semantic-version-2.10.0 wurlitzer-3.0.2\r\n",
      "\u001b[33mWARNING: Running pip as the 'root' user can result in broken permissions and conflicting behaviour with the system package manager. It is recommended to use a virtual environment instead: https://pip.pypa.io/warnings/venv\u001b[0m\u001b[33m\r\n",
      "\u001b[0mNote: you may need to restart the kernel to use updated packages.\n"
     ]
    }
   ],
   "source": [
    "pip install comet_ml"
   ]
  },
  {
   "cell_type": "code",
   "execution_count": 2,
   "id": "9a576c76",
   "metadata": {
    "execution": {
     "iopub.execute_input": "2022-07-15T06:02:17.377171Z",
     "iopub.status.busy": "2022-07-15T06:02:17.376780Z",
     "iopub.status.idle": "2022-07-15T06:02:19.284454Z",
     "shell.execute_reply": "2022-07-15T06:02:19.283298Z"
    },
    "papermill": {
     "duration": 1.929317,
     "end_time": "2022-07-15T06:02:19.287078",
     "exception": false,
     "start_time": "2022-07-15T06:02:17.357761",
     "status": "completed"
    },
    "tags": []
   },
   "outputs": [
    {
     "name": "stderr",
     "output_type": "stream",
     "text": [
      "COMET WARNING: As you are running in a Jupyter environment, you will need to call `experiment.end()` when finished to ensure all metrics and code are logged before exiting.\n",
      "COMET INFO: Couldn't find a Git repository in '/kaggle/working' nor in any parent directory. You can override where Comet is looking for a Git Patch by setting the configuration `COMET_GIT_DIRECTORY`\n",
      "COMET INFO: Experiment is live on comet.ml https://www.comet.com/dataking/movie-recommendation-system/183e8cbe896e47c0ba834fc680d8784f\n",
      "\n"
     ]
    }
   ],
   "source": [
    "#running comet.ml\n",
    "from comet_ml import Experiment\n",
    "\n",
    "# connect\n",
    "experiment = Experiment(\n",
    "    api_key=\"ZlMjCC5LQUYW1u1nUBvLendvL\",\n",
    "    project_name=\"movie_recommendation_system\",\n",
    "    workspace=\"DataKing\",\n",
    ")\n",
    "#experiment.set_name(name)"
   ]
  },
  {
   "cell_type": "code",
   "execution_count": 3,
   "id": "c169285c",
   "metadata": {
    "_cell_guid": "b1076dfc-b9ad-4769-8c92-a6c4dae69d19",
    "_uuid": "8f2839f25d086af736a60e9eeb907d3b93b6e0e5",
    "execution": {
     "iopub.execute_input": "2022-07-15T06:02:19.325280Z",
     "iopub.status.busy": "2022-07-15T06:02:19.324877Z",
     "iopub.status.idle": "2022-07-15T06:02:20.554073Z",
     "shell.execute_reply": "2022-07-15T06:02:20.551424Z"
    },
    "papermill": {
     "duration": 1.250803,
     "end_time": "2022-07-15T06:02:20.556773",
     "exception": false,
     "start_time": "2022-07-15T06:02:19.305970",
     "status": "completed"
    },
    "tags": []
   },
   "outputs": [
    {
     "name": "stderr",
     "output_type": "stream",
     "text": [
      "COMET WARNING: Error exporting current conda environment\n",
      "COMET WARNING: Unknown error exporting current conda environment\n"
     ]
    },
    {
     "name": "stdout",
     "output_type": "stream",
     "text": [
      "/kaggle/input/edsa-movie-recommendation-system/sample_submission.csv\n",
      "/kaggle/input/edsa-movie-recommendation-system/movies.csv\n",
      "/kaggle/input/edsa-movie-recommendation-system/imdb_data.csv\n",
      "/kaggle/input/edsa-movie-recommendation-system/genome_tags.csv\n",
      "/kaggle/input/edsa-movie-recommendation-system/genome_scores.csv\n",
      "/kaggle/input/edsa-movie-recommendation-system/train.csv\n",
      "/kaggle/input/edsa-movie-recommendation-system/test.csv\n",
      "/kaggle/input/edsa-movie-recommendation-system/tags.csv\n",
      "/kaggle/input/edsa-movie-recommendation-system/links.csv\n"
     ]
    }
   ],
   "source": [
    "# This Python 3 environment comes with many helpful analytics libraries installed\n",
    "# It is defined by the kaggle/python Docker image: https://github.com/kaggle/docker-python\n",
    "# For example, here's several helpful packages to load\n",
    "\n",
    "import numpy as np # linear algebra\n",
    "import pandas as pd # data processing, CSV file I/O (e.g. pd.read_csv)\n",
    "import math\n",
    "import re\n",
    "from scipy.sparse import csr_matrix\n",
    "import matplotlib.pyplot as plt\n",
    "import seaborn as sns\n",
    "from surprise import Reader, Dataset, SVD\n",
    "from surprise.model_selection import cross_validate\n",
    "sns.set_style(\"darkgrid\")\n",
    "# Input data files are available in the read-only \"../input/\" directory\n",
    "# For example, running this (by clicking run or pressing Shift+Enter) will list all files under the input directory\n",
    "\n",
    "import os\n",
    "for dirname, _, filenames in os.walk('/kaggle/input'):\n",
    "    for filename in filenames:\n",
    "        print(os.path.join(dirname, filename))\n",
    "\n",
    "# You can write up to 20GB to the current directory (/kaggle/working/) that gets preserved as output when you create a version using \"Save & Run All\" \n",
    "# You can also write temporary files to /kaggle/temp/, but they won't be saved outside of the current session"
   ]
  },
  {
   "cell_type": "code",
   "execution_count": 4,
   "id": "03a06307",
   "metadata": {
    "execution": {
     "iopub.execute_input": "2022-07-15T06:02:20.596350Z",
     "iopub.status.busy": "2022-07-15T06:02:20.595456Z",
     "iopub.status.idle": "2022-07-15T06:02:43.489628Z",
     "shell.execute_reply": "2022-07-15T06:02:43.488300Z"
    },
    "papermill": {
     "duration": 22.917339,
     "end_time": "2022-07-15T06:02:43.492348",
     "exception": false,
     "start_time": "2022-07-15T06:02:20.575009",
     "status": "completed"
    },
    "tags": []
   },
   "outputs": [],
   "source": [
    "g_scores = pd.read_csv('/kaggle/input/edsa-movie-recommendation-system/genome_scores.csv')\n",
    "g_tags = pd.read_csv('/kaggle/input/edsa-movie-recommendation-system/genome_tags.csv')\n",
    "imdb_data = pd.read_csv(\"/kaggle/input/edsa-movie-recommendation-system/imdb_data.csv\")\n",
    "links = pd.read_csv(\"/kaggle/input/edsa-movie-recommendation-system/links.csv\")\n",
    "movies = pd.read_csv('/kaggle/input/edsa-movie-recommendation-system/movies.csv')\n",
    "train = pd.read_csv(\"/kaggle/input/edsa-movie-recommendation-system/train.csv\")\n",
    "test = pd.read_csv(\"/kaggle/input/edsa-movie-recommendation-system/train.csv\")"
   ]
  },
  {
   "cell_type": "markdown",
   "id": "471495c5",
   "metadata": {
    "papermill": {
     "duration": 0.017451,
     "end_time": "2022-07-15T06:02:43.527915",
     "exception": false,
     "start_time": "2022-07-15T06:02:43.510464",
     "status": "completed"
    },
    "tags": []
   },
   "source": [
    "# SELECTING MOVIES"
   ]
  },
  {
   "cell_type": "markdown",
   "id": "9ec09c34",
   "metadata": {
    "papermill": {
     "duration": 0.017673,
     "end_time": "2022-07-15T06:02:43.563589",
     "exception": false,
     "start_time": "2022-07-15T06:02:43.545916",
     "status": "completed"
    },
    "tags": []
   },
   "source": [
    "When exploring videos in a video streaming site, or in a video shop, you will inevitably look for the following information as they will enable you find a movie that would likely interest you:\n",
    "* Movie title\n",
    "* Movie cast\n",
    "* Director\n",
    "* Genre\n",
    "* Release year\n",
    "* Reviews\n",
    "\n",
    "Therefore, we will seek to determine if these factors in the next step, Exploratory Data Analysis, have an impact on the likelihood of a user to choose to watch a specific movie."
   ]
  },
  {
   "cell_type": "markdown",
   "id": "78265057",
   "metadata": {
    "papermill": {
     "duration": 0.017496,
     "end_time": "2022-07-15T06:02:43.598824",
     "exception": false,
     "start_time": "2022-07-15T06:02:43.581328",
     "status": "completed"
    },
    "tags": []
   },
   "source": [
    "# EXPLORATORY DATA ANALYSIS"
   ]
  },
  {
   "cell_type": "markdown",
   "id": "6f1f14ba",
   "metadata": {
    "papermill": {
     "duration": 0.017479,
     "end_time": "2022-07-15T06:02:43.634338",
     "exception": false,
     "start_time": "2022-07-15T06:02:43.616859",
     "status": "completed"
    },
    "tags": []
   },
   "source": [
    "## EXPLORING THE DATA"
   ]
  },
  {
   "cell_type": "code",
   "execution_count": 5,
   "id": "77666d02",
   "metadata": {
    "execution": {
     "iopub.execute_input": "2022-07-15T06:02:43.673646Z",
     "iopub.status.busy": "2022-07-15T06:02:43.672406Z",
     "iopub.status.idle": "2022-07-15T06:02:43.691929Z",
     "shell.execute_reply": "2022-07-15T06:02:43.690831Z"
    },
    "papermill": {
     "duration": 0.041625,
     "end_time": "2022-07-15T06:02:43.694137",
     "exception": false,
     "start_time": "2022-07-15T06:02:43.652512",
     "status": "completed"
    },
    "tags": []
   },
   "outputs": [
    {
     "data": {
      "text/html": [
       "<div>\n",
       "<style scoped>\n",
       "    .dataframe tbody tr th:only-of-type {\n",
       "        vertical-align: middle;\n",
       "    }\n",
       "\n",
       "    .dataframe tbody tr th {\n",
       "        vertical-align: top;\n",
       "    }\n",
       "\n",
       "    .dataframe thead th {\n",
       "        text-align: right;\n",
       "    }\n",
       "</style>\n",
       "<table border=\"1\" class=\"dataframe\">\n",
       "  <thead>\n",
       "    <tr style=\"text-align: right;\">\n",
       "      <th></th>\n",
       "      <th>movieId</th>\n",
       "      <th>tagId</th>\n",
       "      <th>relevance</th>\n",
       "    </tr>\n",
       "  </thead>\n",
       "  <tbody>\n",
       "    <tr>\n",
       "      <th>0</th>\n",
       "      <td>1</td>\n",
       "      <td>1</td>\n",
       "      <td>0.02875</td>\n",
       "    </tr>\n",
       "    <tr>\n",
       "      <th>1</th>\n",
       "      <td>1</td>\n",
       "      <td>2</td>\n",
       "      <td>0.02375</td>\n",
       "    </tr>\n",
       "  </tbody>\n",
       "</table>\n",
       "</div>"
      ],
      "text/plain": [
       "   movieId  tagId  relevance\n",
       "0        1      1    0.02875\n",
       "1        1      2    0.02375"
      ]
     },
     "execution_count": 5,
     "metadata": {},
     "output_type": "execute_result"
    }
   ],
   "source": [
    "g_scores.head(2)"
   ]
  },
  {
   "cell_type": "code",
   "execution_count": 6,
   "id": "f5b4bca6",
   "metadata": {
    "execution": {
     "iopub.execute_input": "2022-07-15T06:02:43.731627Z",
     "iopub.status.busy": "2022-07-15T06:02:43.730842Z",
     "iopub.status.idle": "2022-07-15T06:02:43.740680Z",
     "shell.execute_reply": "2022-07-15T06:02:43.739561Z"
    },
    "papermill": {
     "duration": 0.030852,
     "end_time": "2022-07-15T06:02:43.742782",
     "exception": false,
     "start_time": "2022-07-15T06:02:43.711930",
     "status": "completed"
    },
    "tags": []
   },
   "outputs": [
    {
     "data": {
      "text/html": [
       "<div>\n",
       "<style scoped>\n",
       "    .dataframe tbody tr th:only-of-type {\n",
       "        vertical-align: middle;\n",
       "    }\n",
       "\n",
       "    .dataframe tbody tr th {\n",
       "        vertical-align: top;\n",
       "    }\n",
       "\n",
       "    .dataframe thead th {\n",
       "        text-align: right;\n",
       "    }\n",
       "</style>\n",
       "<table border=\"1\" class=\"dataframe\">\n",
       "  <thead>\n",
       "    <tr style=\"text-align: right;\">\n",
       "      <th></th>\n",
       "      <th>tagId</th>\n",
       "      <th>tag</th>\n",
       "    </tr>\n",
       "  </thead>\n",
       "  <tbody>\n",
       "    <tr>\n",
       "      <th>0</th>\n",
       "      <td>1</td>\n",
       "      <td>007</td>\n",
       "    </tr>\n",
       "    <tr>\n",
       "      <th>1</th>\n",
       "      <td>2</td>\n",
       "      <td>007 (series)</td>\n",
       "    </tr>\n",
       "  </tbody>\n",
       "</table>\n",
       "</div>"
      ],
      "text/plain": [
       "   tagId           tag\n",
       "0      1           007\n",
       "1      2  007 (series)"
      ]
     },
     "execution_count": 6,
     "metadata": {},
     "output_type": "execute_result"
    }
   ],
   "source": [
    "g_tags.head(2)"
   ]
  },
  {
   "cell_type": "code",
   "execution_count": 7,
   "id": "71af28c3",
   "metadata": {
    "execution": {
     "iopub.execute_input": "2022-07-15T06:02:43.780857Z",
     "iopub.status.busy": "2022-07-15T06:02:43.779936Z",
     "iopub.status.idle": "2022-07-15T06:02:43.792938Z",
     "shell.execute_reply": "2022-07-15T06:02:43.791782Z"
    },
    "papermill": {
     "duration": 0.034413,
     "end_time": "2022-07-15T06:02:43.795057",
     "exception": false,
     "start_time": "2022-07-15T06:02:43.760644",
     "status": "completed"
    },
    "tags": []
   },
   "outputs": [
    {
     "data": {
      "text/html": [
       "<div>\n",
       "<style scoped>\n",
       "    .dataframe tbody tr th:only-of-type {\n",
       "        vertical-align: middle;\n",
       "    }\n",
       "\n",
       "    .dataframe tbody tr th {\n",
       "        vertical-align: top;\n",
       "    }\n",
       "\n",
       "    .dataframe thead th {\n",
       "        text-align: right;\n",
       "    }\n",
       "</style>\n",
       "<table border=\"1\" class=\"dataframe\">\n",
       "  <thead>\n",
       "    <tr style=\"text-align: right;\">\n",
       "      <th></th>\n",
       "      <th>movieId</th>\n",
       "      <th>title_cast</th>\n",
       "      <th>director</th>\n",
       "      <th>runtime</th>\n",
       "      <th>budget</th>\n",
       "      <th>plot_keywords</th>\n",
       "    </tr>\n",
       "  </thead>\n",
       "  <tbody>\n",
       "    <tr>\n",
       "      <th>0</th>\n",
       "      <td>1</td>\n",
       "      <td>Tom Hanks|Tim Allen|Don Rickles|Jim Varney|Wal...</td>\n",
       "      <td>John Lasseter</td>\n",
       "      <td>81.0</td>\n",
       "      <td>$30,000,000</td>\n",
       "      <td>toy|rivalry|cowboy|cgi animation</td>\n",
       "    </tr>\n",
       "    <tr>\n",
       "      <th>1</th>\n",
       "      <td>2</td>\n",
       "      <td>Robin Williams|Jonathan Hyde|Kirsten Dunst|Bra...</td>\n",
       "      <td>Jonathan Hensleigh</td>\n",
       "      <td>104.0</td>\n",
       "      <td>$65,000,000</td>\n",
       "      <td>board game|adventurer|fight|game</td>\n",
       "    </tr>\n",
       "  </tbody>\n",
       "</table>\n",
       "</div>"
      ],
      "text/plain": [
       "   movieId                                         title_cast  \\\n",
       "0        1  Tom Hanks|Tim Allen|Don Rickles|Jim Varney|Wal...   \n",
       "1        2  Robin Williams|Jonathan Hyde|Kirsten Dunst|Bra...   \n",
       "\n",
       "             director  runtime       budget                     plot_keywords  \n",
       "0       John Lasseter     81.0  $30,000,000  toy|rivalry|cowboy|cgi animation  \n",
       "1  Jonathan Hensleigh    104.0  $65,000,000  board game|adventurer|fight|game  "
      ]
     },
     "execution_count": 7,
     "metadata": {},
     "output_type": "execute_result"
    }
   ],
   "source": [
    "imdb_data.head(2)"
   ]
  },
  {
   "cell_type": "code",
   "execution_count": 8,
   "id": "013eb464",
   "metadata": {
    "execution": {
     "iopub.execute_input": "2022-07-15T06:02:43.834500Z",
     "iopub.status.busy": "2022-07-15T06:02:43.833528Z",
     "iopub.status.idle": "2022-07-15T06:02:43.845559Z",
     "shell.execute_reply": "2022-07-15T06:02:43.844489Z"
    },
    "papermill": {
     "duration": 0.034574,
     "end_time": "2022-07-15T06:02:43.848053",
     "exception": false,
     "start_time": "2022-07-15T06:02:43.813479",
     "status": "completed"
    },
    "tags": []
   },
   "outputs": [
    {
     "data": {
      "text/html": [
       "<div>\n",
       "<style scoped>\n",
       "    .dataframe tbody tr th:only-of-type {\n",
       "        vertical-align: middle;\n",
       "    }\n",
       "\n",
       "    .dataframe tbody tr th {\n",
       "        vertical-align: top;\n",
       "    }\n",
       "\n",
       "    .dataframe thead th {\n",
       "        text-align: right;\n",
       "    }\n",
       "</style>\n",
       "<table border=\"1\" class=\"dataframe\">\n",
       "  <thead>\n",
       "    <tr style=\"text-align: right;\">\n",
       "      <th></th>\n",
       "      <th>movieId</th>\n",
       "      <th>imdbId</th>\n",
       "      <th>tmdbId</th>\n",
       "    </tr>\n",
       "  </thead>\n",
       "  <tbody>\n",
       "    <tr>\n",
       "      <th>0</th>\n",
       "      <td>1</td>\n",
       "      <td>114709</td>\n",
       "      <td>862.0</td>\n",
       "    </tr>\n",
       "    <tr>\n",
       "      <th>1</th>\n",
       "      <td>2</td>\n",
       "      <td>113497</td>\n",
       "      <td>8844.0</td>\n",
       "    </tr>\n",
       "  </tbody>\n",
       "</table>\n",
       "</div>"
      ],
      "text/plain": [
       "   movieId  imdbId  tmdbId\n",
       "0        1  114709   862.0\n",
       "1        2  113497  8844.0"
      ]
     },
     "execution_count": 8,
     "metadata": {},
     "output_type": "execute_result"
    }
   ],
   "source": [
    "links.head(2)"
   ]
  },
  {
   "cell_type": "code",
   "execution_count": 9,
   "id": "fbed47c3",
   "metadata": {
    "execution": {
     "iopub.execute_input": "2022-07-15T06:02:43.887485Z",
     "iopub.status.busy": "2022-07-15T06:02:43.886575Z",
     "iopub.status.idle": "2022-07-15T06:02:43.897040Z",
     "shell.execute_reply": "2022-07-15T06:02:43.895944Z"
    },
    "papermill": {
     "duration": 0.032822,
     "end_time": "2022-07-15T06:02:43.899467",
     "exception": false,
     "start_time": "2022-07-15T06:02:43.866645",
     "status": "completed"
    },
    "tags": []
   },
   "outputs": [
    {
     "data": {
      "text/html": [
       "<div>\n",
       "<style scoped>\n",
       "    .dataframe tbody tr th:only-of-type {\n",
       "        vertical-align: middle;\n",
       "    }\n",
       "\n",
       "    .dataframe tbody tr th {\n",
       "        vertical-align: top;\n",
       "    }\n",
       "\n",
       "    .dataframe thead th {\n",
       "        text-align: right;\n",
       "    }\n",
       "</style>\n",
       "<table border=\"1\" class=\"dataframe\">\n",
       "  <thead>\n",
       "    <tr style=\"text-align: right;\">\n",
       "      <th></th>\n",
       "      <th>movieId</th>\n",
       "      <th>title</th>\n",
       "      <th>genres</th>\n",
       "    </tr>\n",
       "  </thead>\n",
       "  <tbody>\n",
       "    <tr>\n",
       "      <th>0</th>\n",
       "      <td>1</td>\n",
       "      <td>Toy Story (1995)</td>\n",
       "      <td>Adventure|Animation|Children|Comedy|Fantasy</td>\n",
       "    </tr>\n",
       "    <tr>\n",
       "      <th>1</th>\n",
       "      <td>2</td>\n",
       "      <td>Jumanji (1995)</td>\n",
       "      <td>Adventure|Children|Fantasy</td>\n",
       "    </tr>\n",
       "  </tbody>\n",
       "</table>\n",
       "</div>"
      ],
      "text/plain": [
       "   movieId             title                                       genres\n",
       "0        1  Toy Story (1995)  Adventure|Animation|Children|Comedy|Fantasy\n",
       "1        2    Jumanji (1995)                   Adventure|Children|Fantasy"
      ]
     },
     "execution_count": 9,
     "metadata": {},
     "output_type": "execute_result"
    }
   ],
   "source": [
    "movies.head(2)"
   ]
  },
  {
   "cell_type": "code",
   "execution_count": 10,
   "id": "fd2d2246",
   "metadata": {
    "execution": {
     "iopub.execute_input": "2022-07-15T06:02:43.939127Z",
     "iopub.status.busy": "2022-07-15T06:02:43.938757Z",
     "iopub.status.idle": "2022-07-15T06:02:43.949502Z",
     "shell.execute_reply": "2022-07-15T06:02:43.948431Z"
    },
    "papermill": {
     "duration": 0.033515,
     "end_time": "2022-07-15T06:02:43.951603",
     "exception": false,
     "start_time": "2022-07-15T06:02:43.918088",
     "status": "completed"
    },
    "tags": []
   },
   "outputs": [
    {
     "data": {
      "text/html": [
       "<div>\n",
       "<style scoped>\n",
       "    .dataframe tbody tr th:only-of-type {\n",
       "        vertical-align: middle;\n",
       "    }\n",
       "\n",
       "    .dataframe tbody tr th {\n",
       "        vertical-align: top;\n",
       "    }\n",
       "\n",
       "    .dataframe thead th {\n",
       "        text-align: right;\n",
       "    }\n",
       "</style>\n",
       "<table border=\"1\" class=\"dataframe\">\n",
       "  <thead>\n",
       "    <tr style=\"text-align: right;\">\n",
       "      <th></th>\n",
       "      <th>userId</th>\n",
       "      <th>movieId</th>\n",
       "      <th>rating</th>\n",
       "      <th>timestamp</th>\n",
       "    </tr>\n",
       "  </thead>\n",
       "  <tbody>\n",
       "    <tr>\n",
       "      <th>0</th>\n",
       "      <td>5163</td>\n",
       "      <td>57669</td>\n",
       "      <td>4.0</td>\n",
       "      <td>1518349992</td>\n",
       "    </tr>\n",
       "    <tr>\n",
       "      <th>1</th>\n",
       "      <td>106343</td>\n",
       "      <td>5</td>\n",
       "      <td>4.5</td>\n",
       "      <td>1206238739</td>\n",
       "    </tr>\n",
       "  </tbody>\n",
       "</table>\n",
       "</div>"
      ],
      "text/plain": [
       "   userId  movieId  rating   timestamp\n",
       "0    5163    57669     4.0  1518349992\n",
       "1  106343        5     4.5  1206238739"
      ]
     },
     "execution_count": 10,
     "metadata": {},
     "output_type": "execute_result"
    }
   ],
   "source": [
    "train.head(2)"
   ]
  },
  {
   "cell_type": "markdown",
   "id": "12e88f30",
   "metadata": {
    "papermill": {
     "duration": 0.018544,
     "end_time": "2022-07-15T06:02:43.989079",
     "exception": false,
     "start_time": "2022-07-15T06:02:43.970535",
     "status": "completed"
    },
    "tags": []
   },
   "source": [
    "To analyse the data efficiently, we will then need to merge the various dataframes into one dataframe. To do so, we will use the following keys:\n",
    "* movieId\n",
    "* userId\n",
    "* imdbId\n",
    "* tmdbId\n",
    "* tagId\n",
    "\n",
    "First, we will check whether the columns containing the keys have any null values:"
   ]
  },
  {
   "cell_type": "code",
   "execution_count": 11,
   "id": "48a3fcac",
   "metadata": {
    "execution": {
     "iopub.execute_input": "2022-07-15T06:02:44.028998Z",
     "iopub.status.busy": "2022-07-15T06:02:44.028301Z",
     "iopub.status.idle": "2022-07-15T06:02:44.112932Z",
     "shell.execute_reply": "2022-07-15T06:02:44.111902Z"
    },
    "papermill": {
     "duration": 0.10762,
     "end_time": "2022-07-15T06:02:44.115514",
     "exception": false,
     "start_time": "2022-07-15T06:02:44.007894",
     "status": "completed"
    },
    "tags": []
   },
   "outputs": [
    {
     "data": {
      "text/plain": [
       "movieId      0\n",
       "tagId        0\n",
       "relevance    0\n",
       "dtype: int64"
      ]
     },
     "execution_count": 11,
     "metadata": {},
     "output_type": "execute_result"
    }
   ],
   "source": [
    "g_scores.isna().sum()"
   ]
  },
  {
   "cell_type": "code",
   "execution_count": 12,
   "id": "9d7c4512",
   "metadata": {
    "execution": {
     "iopub.execute_input": "2022-07-15T06:02:44.155520Z",
     "iopub.status.busy": "2022-07-15T06:02:44.155045Z",
     "iopub.status.idle": "2022-07-15T06:02:44.164718Z",
     "shell.execute_reply": "2022-07-15T06:02:44.163703Z"
    },
    "papermill": {
     "duration": 0.032166,
     "end_time": "2022-07-15T06:02:44.166925",
     "exception": false,
     "start_time": "2022-07-15T06:02:44.134759",
     "status": "completed"
    },
    "tags": []
   },
   "outputs": [
    {
     "data": {
      "text/plain": [
       "tagId    0\n",
       "tag      0\n",
       "dtype: int64"
      ]
     },
     "execution_count": 12,
     "metadata": {},
     "output_type": "execute_result"
    }
   ],
   "source": [
    "g_tags.isna().sum()"
   ]
  },
  {
   "cell_type": "code",
   "execution_count": 13,
   "id": "cdbe3426",
   "metadata": {
    "execution": {
     "iopub.execute_input": "2022-07-15T06:02:44.206862Z",
     "iopub.status.busy": "2022-07-15T06:02:44.206234Z",
     "iopub.status.idle": "2022-07-15T06:02:44.224937Z",
     "shell.execute_reply": "2022-07-15T06:02:44.223843Z"
    },
    "papermill": {
     "duration": 0.041266,
     "end_time": "2022-07-15T06:02:44.227237",
     "exception": false,
     "start_time": "2022-07-15T06:02:44.185971",
     "status": "completed"
    },
    "tags": []
   },
   "outputs": [
    {
     "data": {
      "text/plain": [
       "movieId              0\n",
       "title_cast       10068\n",
       "director          9874\n",
       "runtime          12089\n",
       "budget           19372\n",
       "plot_keywords    11078\n",
       "dtype: int64"
      ]
     },
     "execution_count": 13,
     "metadata": {},
     "output_type": "execute_result"
    }
   ],
   "source": [
    "imdb_data.isna().sum()"
   ]
  },
  {
   "cell_type": "code",
   "execution_count": 14,
   "id": "0d427612",
   "metadata": {
    "execution": {
     "iopub.execute_input": "2022-07-15T06:02:44.267512Z",
     "iopub.status.busy": "2022-07-15T06:02:44.267086Z",
     "iopub.status.idle": "2022-07-15T06:02:44.275513Z",
     "shell.execute_reply": "2022-07-15T06:02:44.274738Z"
    },
    "papermill": {
     "duration": 0.031083,
     "end_time": "2022-07-15T06:02:44.277592",
     "exception": false,
     "start_time": "2022-07-15T06:02:44.246509",
     "status": "completed"
    },
    "tags": []
   },
   "outputs": [
    {
     "data": {
      "text/plain": [
       "movieId      0\n",
       "imdbId       0\n",
       "tmdbId     107\n",
       "dtype: int64"
      ]
     },
     "execution_count": 14,
     "metadata": {},
     "output_type": "execute_result"
    }
   ],
   "source": [
    "links.isna().sum()"
   ]
  },
  {
   "cell_type": "code",
   "execution_count": 15,
   "id": "a93e2be8",
   "metadata": {
    "execution": {
     "iopub.execute_input": "2022-07-15T06:02:44.319572Z",
     "iopub.status.busy": "2022-07-15T06:02:44.318381Z",
     "iopub.status.idle": "2022-07-15T06:02:44.342055Z",
     "shell.execute_reply": "2022-07-15T06:02:44.340932Z"
    },
    "papermill": {
     "duration": 0.046827,
     "end_time": "2022-07-15T06:02:44.344424",
     "exception": false,
     "start_time": "2022-07-15T06:02:44.297597",
     "status": "completed"
    },
    "tags": []
   },
   "outputs": [
    {
     "data": {
      "text/plain": [
       "movieId    0\n",
       "title      0\n",
       "genres     0\n",
       "dtype: int64"
      ]
     },
     "execution_count": 15,
     "metadata": {},
     "output_type": "execute_result"
    }
   ],
   "source": [
    "movies.isna().sum()"
   ]
  },
  {
   "cell_type": "code",
   "execution_count": 16,
   "id": "4af729b4",
   "metadata": {
    "execution": {
     "iopub.execute_input": "2022-07-15T06:02:44.385391Z",
     "iopub.status.busy": "2022-07-15T06:02:44.384652Z",
     "iopub.status.idle": "2022-07-15T06:02:44.457099Z",
     "shell.execute_reply": "2022-07-15T06:02:44.455907Z"
    },
    "papermill": {
     "duration": 0.095593,
     "end_time": "2022-07-15T06:02:44.459548",
     "exception": false,
     "start_time": "2022-07-15T06:02:44.363955",
     "status": "completed"
    },
    "tags": []
   },
   "outputs": [
    {
     "data": {
      "text/plain": [
       "userId       0\n",
       "movieId      0\n",
       "rating       0\n",
       "timestamp    0\n",
       "dtype: int64"
      ]
     },
     "execution_count": 16,
     "metadata": {},
     "output_type": "execute_result"
    }
   ],
   "source": [
    "train.isna().sum()"
   ]
  },
  {
   "cell_type": "code",
   "execution_count": 17,
   "id": "ddd87462",
   "metadata": {
    "execution": {
     "iopub.execute_input": "2022-07-15T06:02:44.500862Z",
     "iopub.status.busy": "2022-07-15T06:02:44.500467Z",
     "iopub.status.idle": "2022-07-15T06:02:44.565787Z",
     "shell.execute_reply": "2022-07-15T06:02:44.564721Z"
    },
    "papermill": {
     "duration": 0.088317,
     "end_time": "2022-07-15T06:02:44.567854",
     "exception": false,
     "start_time": "2022-07-15T06:02:44.479537",
     "status": "completed"
    },
    "tags": []
   },
   "outputs": [
    {
     "data": {
      "text/plain": [
       "userId       0\n",
       "movieId      0\n",
       "rating       0\n",
       "timestamp    0\n",
       "dtype: int64"
      ]
     },
     "execution_count": 17,
     "metadata": {},
     "output_type": "execute_result"
    }
   ],
   "source": [
    "test.isna().sum()"
   ]
  },
  {
   "cell_type": "markdown",
   "id": "5791ff06",
   "metadata": {
    "papermill": {
     "duration": 0.019395,
     "end_time": "2022-07-15T06:02:44.606879",
     "exception": false,
     "start_time": "2022-07-15T06:02:44.587484",
     "status": "completed"
    },
    "tags": []
   },
   "source": [
    "From the above exercise, it was found that in all dataframes, the following columns (keys) do not have any null values: movieId, tagId, imdbId and userId. <br> The tmdbId column contains null values, and therefore the use of the links dataframe will be done with care."
   ]
  },
  {
   "cell_type": "markdown",
   "id": "feeb3217",
   "metadata": {
    "papermill": {
     "duration": 0.019283,
     "end_time": "2022-07-15T06:02:44.645947",
     "exception": false,
     "start_time": "2022-07-15T06:02:44.626664",
     "status": "completed"
    },
    "tags": []
   },
   "source": [
    "Next, all relevant columns from the dataframes will be merged into the train dataframe."
   ]
  },
  {
   "cell_type": "code",
   "execution_count": 18,
   "id": "9b1eaa07",
   "metadata": {
    "execution": {
     "iopub.execute_input": "2022-07-15T06:02:44.687763Z",
     "iopub.status.busy": "2022-07-15T06:02:44.686600Z",
     "iopub.status.idle": "2022-07-15T06:02:48.002452Z",
     "shell.execute_reply": "2022-07-15T06:02:48.001444Z"
    },
    "papermill": {
     "duration": 3.339285,
     "end_time": "2022-07-15T06:02:48.004967",
     "exception": false,
     "start_time": "2022-07-15T06:02:44.665682",
     "status": "completed"
    },
    "tags": []
   },
   "outputs": [],
   "source": [
    "# merging imdb_data dataframe into train dataframe and saving to another dataframe\n",
    "# to add cast, director, runtime, budget and plot_keywords into the train dataframe\n",
    "train_df = pd.merge(train, imdb_data, on='movieId')"
   ]
  },
  {
   "cell_type": "code",
   "execution_count": 19,
   "id": "4a359268",
   "metadata": {
    "execution": {
     "iopub.execute_input": "2022-07-15T06:02:48.046659Z",
     "iopub.status.busy": "2022-07-15T06:02:48.046005Z",
     "iopub.status.idle": "2022-07-15T06:02:48.060135Z",
     "shell.execute_reply": "2022-07-15T06:02:48.059324Z"
    },
    "papermill": {
     "duration": 0.037239,
     "end_time": "2022-07-15T06:02:48.062117",
     "exception": false,
     "start_time": "2022-07-15T06:02:48.024878",
     "status": "completed"
    },
    "tags": []
   },
   "outputs": [
    {
     "data": {
      "text/html": [
       "<div>\n",
       "<style scoped>\n",
       "    .dataframe tbody tr th:only-of-type {\n",
       "        vertical-align: middle;\n",
       "    }\n",
       "\n",
       "    .dataframe tbody tr th {\n",
       "        vertical-align: top;\n",
       "    }\n",
       "\n",
       "    .dataframe thead th {\n",
       "        text-align: right;\n",
       "    }\n",
       "</style>\n",
       "<table border=\"1\" class=\"dataframe\">\n",
       "  <thead>\n",
       "    <tr style=\"text-align: right;\">\n",
       "      <th></th>\n",
       "      <th>userId</th>\n",
       "      <th>movieId</th>\n",
       "      <th>rating</th>\n",
       "      <th>timestamp</th>\n",
       "      <th>title_cast</th>\n",
       "      <th>director</th>\n",
       "      <th>runtime</th>\n",
       "      <th>budget</th>\n",
       "      <th>plot_keywords</th>\n",
       "    </tr>\n",
       "  </thead>\n",
       "  <tbody>\n",
       "    <tr>\n",
       "      <th>0</th>\n",
       "      <td>5163</td>\n",
       "      <td>57669</td>\n",
       "      <td>4.0</td>\n",
       "      <td>1518349992</td>\n",
       "      <td>Elizabeth Berrington|Rudy Blomme|Olivier Bonjo...</td>\n",
       "      <td>Martin McDonagh</td>\n",
       "      <td>107.0</td>\n",
       "      <td>$15,000,000</td>\n",
       "      <td>dwarf|bruges|irish|hitman</td>\n",
       "    </tr>\n",
       "    <tr>\n",
       "      <th>1</th>\n",
       "      <td>87388</td>\n",
       "      <td>57669</td>\n",
       "      <td>3.5</td>\n",
       "      <td>1237455297</td>\n",
       "      <td>Elizabeth Berrington|Rudy Blomme|Olivier Bonjo...</td>\n",
       "      <td>Martin McDonagh</td>\n",
       "      <td>107.0</td>\n",
       "      <td>$15,000,000</td>\n",
       "      <td>dwarf|bruges|irish|hitman</td>\n",
       "    </tr>\n",
       "    <tr>\n",
       "      <th>2</th>\n",
       "      <td>137050</td>\n",
       "      <td>57669</td>\n",
       "      <td>4.0</td>\n",
       "      <td>1425631854</td>\n",
       "      <td>Elizabeth Berrington|Rudy Blomme|Olivier Bonjo...</td>\n",
       "      <td>Martin McDonagh</td>\n",
       "      <td>107.0</td>\n",
       "      <td>$15,000,000</td>\n",
       "      <td>dwarf|bruges|irish|hitman</td>\n",
       "    </tr>\n",
       "    <tr>\n",
       "      <th>3</th>\n",
       "      <td>120490</td>\n",
       "      <td>57669</td>\n",
       "      <td>4.5</td>\n",
       "      <td>1408228517</td>\n",
       "      <td>Elizabeth Berrington|Rudy Blomme|Olivier Bonjo...</td>\n",
       "      <td>Martin McDonagh</td>\n",
       "      <td>107.0</td>\n",
       "      <td>$15,000,000</td>\n",
       "      <td>dwarf|bruges|irish|hitman</td>\n",
       "    </tr>\n",
       "    <tr>\n",
       "      <th>4</th>\n",
       "      <td>50616</td>\n",
       "      <td>57669</td>\n",
       "      <td>4.5</td>\n",
       "      <td>1446941640</td>\n",
       "      <td>Elizabeth Berrington|Rudy Blomme|Olivier Bonjo...</td>\n",
       "      <td>Martin McDonagh</td>\n",
       "      <td>107.0</td>\n",
       "      <td>$15,000,000</td>\n",
       "      <td>dwarf|bruges|irish|hitman</td>\n",
       "    </tr>\n",
       "  </tbody>\n",
       "</table>\n",
       "</div>"
      ],
      "text/plain": [
       "   userId  movieId  rating   timestamp  \\\n",
       "0    5163    57669     4.0  1518349992   \n",
       "1   87388    57669     3.5  1237455297   \n",
       "2  137050    57669     4.0  1425631854   \n",
       "3  120490    57669     4.5  1408228517   \n",
       "4   50616    57669     4.5  1446941640   \n",
       "\n",
       "                                          title_cast         director  \\\n",
       "0  Elizabeth Berrington|Rudy Blomme|Olivier Bonjo...  Martin McDonagh   \n",
       "1  Elizabeth Berrington|Rudy Blomme|Olivier Bonjo...  Martin McDonagh   \n",
       "2  Elizabeth Berrington|Rudy Blomme|Olivier Bonjo...  Martin McDonagh   \n",
       "3  Elizabeth Berrington|Rudy Blomme|Olivier Bonjo...  Martin McDonagh   \n",
       "4  Elizabeth Berrington|Rudy Blomme|Olivier Bonjo...  Martin McDonagh   \n",
       "\n",
       "   runtime       budget              plot_keywords  \n",
       "0    107.0  $15,000,000  dwarf|bruges|irish|hitman  \n",
       "1    107.0  $15,000,000  dwarf|bruges|irish|hitman  \n",
       "2    107.0  $15,000,000  dwarf|bruges|irish|hitman  \n",
       "3    107.0  $15,000,000  dwarf|bruges|irish|hitman  \n",
       "4    107.0  $15,000,000  dwarf|bruges|irish|hitman  "
      ]
     },
     "execution_count": 19,
     "metadata": {},
     "output_type": "execute_result"
    }
   ],
   "source": [
    "train_df.head()"
   ]
  },
  {
   "cell_type": "code",
   "execution_count": 20,
   "id": "77528304",
   "metadata": {
    "execution": {
     "iopub.execute_input": "2022-07-15T06:02:48.104930Z",
     "iopub.status.busy": "2022-07-15T06:02:48.104285Z",
     "iopub.status.idle": "2022-07-15T06:02:49.638058Z",
     "shell.execute_reply": "2022-07-15T06:02:49.636854Z"
    },
    "papermill": {
     "duration": 1.558211,
     "end_time": "2022-07-15T06:02:49.640504",
     "exception": false,
     "start_time": "2022-07-15T06:02:48.082293",
     "status": "completed"
    },
    "tags": []
   },
   "outputs": [],
   "source": [
    "# using merge function to add genre and title details to the train_df dataframe from the movies dataframe\n",
    "train_df = pd.merge(train_df, movies, on = 'movieId')"
   ]
  },
  {
   "cell_type": "code",
   "execution_count": 21,
   "id": "a67f0eb1",
   "metadata": {
    "execution": {
     "iopub.execute_input": "2022-07-15T06:02:49.683489Z",
     "iopub.status.busy": "2022-07-15T06:02:49.683020Z",
     "iopub.status.idle": "2022-07-15T06:02:49.699399Z",
     "shell.execute_reply": "2022-07-15T06:02:49.698318Z"
    },
    "papermill": {
     "duration": 0.040512,
     "end_time": "2022-07-15T06:02:49.701556",
     "exception": false,
     "start_time": "2022-07-15T06:02:49.661044",
     "status": "completed"
    },
    "tags": []
   },
   "outputs": [
    {
     "data": {
      "text/html": [
       "<div>\n",
       "<style scoped>\n",
       "    .dataframe tbody tr th:only-of-type {\n",
       "        vertical-align: middle;\n",
       "    }\n",
       "\n",
       "    .dataframe tbody tr th {\n",
       "        vertical-align: top;\n",
       "    }\n",
       "\n",
       "    .dataframe thead th {\n",
       "        text-align: right;\n",
       "    }\n",
       "</style>\n",
       "<table border=\"1\" class=\"dataframe\">\n",
       "  <thead>\n",
       "    <tr style=\"text-align: right;\">\n",
       "      <th></th>\n",
       "      <th>userId</th>\n",
       "      <th>movieId</th>\n",
       "      <th>rating</th>\n",
       "      <th>timestamp</th>\n",
       "      <th>title_cast</th>\n",
       "      <th>director</th>\n",
       "      <th>runtime</th>\n",
       "      <th>budget</th>\n",
       "      <th>plot_keywords</th>\n",
       "      <th>title</th>\n",
       "      <th>genres</th>\n",
       "    </tr>\n",
       "  </thead>\n",
       "  <tbody>\n",
       "    <tr>\n",
       "      <th>0</th>\n",
       "      <td>5163</td>\n",
       "      <td>57669</td>\n",
       "      <td>4.0</td>\n",
       "      <td>1518349992</td>\n",
       "      <td>Elizabeth Berrington|Rudy Blomme|Olivier Bonjo...</td>\n",
       "      <td>Martin McDonagh</td>\n",
       "      <td>107.0</td>\n",
       "      <td>$15,000,000</td>\n",
       "      <td>dwarf|bruges|irish|hitman</td>\n",
       "      <td>In Bruges (2008)</td>\n",
       "      <td>Comedy|Crime|Drama|Thriller</td>\n",
       "    </tr>\n",
       "    <tr>\n",
       "      <th>1</th>\n",
       "      <td>87388</td>\n",
       "      <td>57669</td>\n",
       "      <td>3.5</td>\n",
       "      <td>1237455297</td>\n",
       "      <td>Elizabeth Berrington|Rudy Blomme|Olivier Bonjo...</td>\n",
       "      <td>Martin McDonagh</td>\n",
       "      <td>107.0</td>\n",
       "      <td>$15,000,000</td>\n",
       "      <td>dwarf|bruges|irish|hitman</td>\n",
       "      <td>In Bruges (2008)</td>\n",
       "      <td>Comedy|Crime|Drama|Thriller</td>\n",
       "    </tr>\n",
       "  </tbody>\n",
       "</table>\n",
       "</div>"
      ],
      "text/plain": [
       "   userId  movieId  rating   timestamp  \\\n",
       "0    5163    57669     4.0  1518349992   \n",
       "1   87388    57669     3.5  1237455297   \n",
       "\n",
       "                                          title_cast         director  \\\n",
       "0  Elizabeth Berrington|Rudy Blomme|Olivier Bonjo...  Martin McDonagh   \n",
       "1  Elizabeth Berrington|Rudy Blomme|Olivier Bonjo...  Martin McDonagh   \n",
       "\n",
       "   runtime       budget              plot_keywords             title  \\\n",
       "0    107.0  $15,000,000  dwarf|bruges|irish|hitman  In Bruges (2008)   \n",
       "1    107.0  $15,000,000  dwarf|bruges|irish|hitman  In Bruges (2008)   \n",
       "\n",
       "                        genres  \n",
       "0  Comedy|Crime|Drama|Thriller  \n",
       "1  Comedy|Crime|Drama|Thriller  "
      ]
     },
     "execution_count": 21,
     "metadata": {},
     "output_type": "execute_result"
    }
   ],
   "source": [
    "train_df.head(2)"
   ]
  },
  {
   "cell_type": "markdown",
   "id": "d90aa921",
   "metadata": {
    "papermill": {
     "duration": 0.020614,
     "end_time": "2022-07-15T06:02:49.742751",
     "exception": false,
     "start_time": "2022-07-15T06:02:49.722137",
     "status": "completed"
    },
    "tags": []
   },
   "source": [
    "From the train_df dataset, we can remove the timestamp and runtime columns:"
   ]
  },
  {
   "cell_type": "code",
   "execution_count": 22,
   "id": "9ba7072a",
   "metadata": {
    "execution": {
     "iopub.execute_input": "2022-07-15T06:02:49.785567Z",
     "iopub.status.busy": "2022-07-15T06:02:49.785012Z",
     "iopub.status.idle": "2022-07-15T06:02:49.790578Z",
     "shell.execute_reply": "2022-07-15T06:02:49.789382Z"
    },
    "papermill": {
     "duration": 0.029673,
     "end_time": "2022-07-15T06:02:49.793011",
     "exception": false,
     "start_time": "2022-07-15T06:02:49.763338",
     "status": "completed"
    },
    "tags": []
   },
   "outputs": [],
   "source": [
    "#train_df.drop('timestamp','')"
   ]
  },
  {
   "cell_type": "markdown",
   "id": "ac2f47e7",
   "metadata": {
    "papermill": {
     "duration": 0.02003,
     "end_time": "2022-07-15T06:02:49.833559",
     "exception": false,
     "start_time": "2022-07-15T06:02:49.813529",
     "status": "completed"
    },
    "tags": []
   },
   "source": [
    "## RESEARCH QUESTIONS\n",
    "\n",
    "* Q1: What are the number of users?\n",
    "* Q2: What are the number of movies?\n",
    "* Q3: What are the number of reviews given per user?\n",
    "* Q4: What are the number of reviews per movie?\n",
    "* Q5: What are the number of movies per rating level (0 to 5 at steps of 0.5)?\n",
    "* Q6: Which movies were highly rated by most of the users?\n",
    "* Q7: Are there outliers in users vs movies and ratings vs movies?\n"
   ]
  },
  {
   "cell_type": "markdown",
   "id": "012b2db5",
   "metadata": {
    "papermill": {
     "duration": 0.020268,
     "end_time": "2022-07-15T06:02:49.874338",
     "exception": false,
     "start_time": "2022-07-15T06:02:49.854070",
     "status": "completed"
    },
    "tags": []
   },
   "source": [
    "### Q1: What are the number of users?"
   ]
  },
  {
   "cell_type": "code",
   "execution_count": 23,
   "id": "f7867dea",
   "metadata": {
    "execution": {
     "iopub.execute_input": "2022-07-15T06:02:49.917929Z",
     "iopub.status.busy": "2022-07-15T06:02:49.917506Z",
     "iopub.status.idle": "2022-07-15T06:02:50.025035Z",
     "shell.execute_reply": "2022-07-15T06:02:50.023996Z"
    },
    "papermill": {
     "duration": 0.132354,
     "end_time": "2022-07-15T06:02:50.027470",
     "exception": false,
     "start_time": "2022-07-15T06:02:49.895116",
     "status": "completed"
    },
    "tags": []
   },
   "outputs": [
    {
     "data": {
      "text/plain": [
       "162541"
      ]
     },
     "execution_count": 23,
     "metadata": {},
     "output_type": "execute_result"
    }
   ],
   "source": [
    "# determining number of users by getting count of unique values\n",
    "# in userId column of train dataframe\n",
    "train['userId'].nunique()"
   ]
  },
  {
   "cell_type": "markdown",
   "id": "2652db90",
   "metadata": {
    "papermill": {
     "duration": 0.020182,
     "end_time": "2022-07-15T06:02:50.068689",
     "exception": false,
     "start_time": "2022-07-15T06:02:50.048507",
     "status": "completed"
    },
    "tags": []
   },
   "source": [
    "#### Observations:\n",
    "\n",
    "* There are 162,541 unique reviewers of the movies"
   ]
  },
  {
   "cell_type": "markdown",
   "id": "2cf32776",
   "metadata": {
    "papermill": {
     "duration": 0.020408,
     "end_time": "2022-07-15T06:02:50.110006",
     "exception": false,
     "start_time": "2022-07-15T06:02:50.089598",
     "status": "completed"
    },
    "tags": []
   },
   "source": [
    "### Q2: What are the number of movies?"
   ]
  },
  {
   "cell_type": "code",
   "execution_count": 24,
   "id": "65054874",
   "metadata": {
    "execution": {
     "iopub.execute_input": "2022-07-15T06:02:50.153297Z",
     "iopub.status.busy": "2022-07-15T06:02:50.152856Z",
     "iopub.status.idle": "2022-07-15T06:02:50.234070Z",
     "shell.execute_reply": "2022-07-15T06:02:50.232819Z"
    },
    "papermill": {
     "duration": 0.106109,
     "end_time": "2022-07-15T06:02:50.236671",
     "exception": false,
     "start_time": "2022-07-15T06:02:50.130562",
     "status": "completed"
    },
    "tags": []
   },
   "outputs": [
    {
     "data": {
      "text/plain": [
       "48213"
      ]
     },
     "execution_count": 24,
     "metadata": {},
     "output_type": "execute_result"
    }
   ],
   "source": [
    "# determining number of movies by getting count of unique values\n",
    "# in movieId column of train dataframe\n",
    "train['movieId'].nunique()"
   ]
  },
  {
   "cell_type": "markdown",
   "id": "efb17e38",
   "metadata": {
    "papermill": {
     "duration": 0.02029,
     "end_time": "2022-07-15T06:02:50.277969",
     "exception": false,
     "start_time": "2022-07-15T06:02:50.257679",
     "status": "completed"
    },
    "tags": []
   },
   "source": [
    "#### Observations\n",
    "\n",
    "* There are 48,213 movies in the dataframe"
   ]
  },
  {
   "cell_type": "markdown",
   "id": "82dad2d7",
   "metadata": {
    "papermill": {
     "duration": 0.020308,
     "end_time": "2022-07-15T06:02:50.318929",
     "exception": false,
     "start_time": "2022-07-15T06:02:50.298621",
     "status": "completed"
    },
    "tags": []
   },
   "source": [
    "### Q3: What are the Number of Reviews Given per User?"
   ]
  },
  {
   "cell_type": "code",
   "execution_count": 25,
   "id": "0133c53f",
   "metadata": {
    "execution": {
     "iopub.execute_input": "2022-07-15T06:02:50.361920Z",
     "iopub.status.busy": "2022-07-15T06:02:50.361542Z",
     "iopub.status.idle": "2022-07-15T06:02:50.372933Z",
     "shell.execute_reply": "2022-07-15T06:02:50.371859Z"
    },
    "papermill": {
     "duration": 0.035484,
     "end_time": "2022-07-15T06:02:50.375201",
     "exception": false,
     "start_time": "2022-07-15T06:02:50.339717",
     "status": "completed"
    },
    "tags": []
   },
   "outputs": [
    {
     "data": {
      "text/html": [
       "<div>\n",
       "<style scoped>\n",
       "    .dataframe tbody tr th:only-of-type {\n",
       "        vertical-align: middle;\n",
       "    }\n",
       "\n",
       "    .dataframe tbody tr th {\n",
       "        vertical-align: top;\n",
       "    }\n",
       "\n",
       "    .dataframe thead th {\n",
       "        text-align: right;\n",
       "    }\n",
       "</style>\n",
       "<table border=\"1\" class=\"dataframe\">\n",
       "  <thead>\n",
       "    <tr style=\"text-align: right;\">\n",
       "      <th></th>\n",
       "      <th>userId</th>\n",
       "      <th>movieId</th>\n",
       "      <th>rating</th>\n",
       "      <th>timestamp</th>\n",
       "    </tr>\n",
       "  </thead>\n",
       "  <tbody>\n",
       "    <tr>\n",
       "      <th>0</th>\n",
       "      <td>5163</td>\n",
       "      <td>57669</td>\n",
       "      <td>4.0</td>\n",
       "      <td>1518349992</td>\n",
       "    </tr>\n",
       "    <tr>\n",
       "      <th>1</th>\n",
       "      <td>106343</td>\n",
       "      <td>5</td>\n",
       "      <td>4.5</td>\n",
       "      <td>1206238739</td>\n",
       "    </tr>\n",
       "    <tr>\n",
       "      <th>2</th>\n",
       "      <td>146790</td>\n",
       "      <td>5459</td>\n",
       "      <td>5.0</td>\n",
       "      <td>1076215539</td>\n",
       "    </tr>\n",
       "    <tr>\n",
       "      <th>3</th>\n",
       "      <td>106362</td>\n",
       "      <td>32296</td>\n",
       "      <td>2.0</td>\n",
       "      <td>1423042565</td>\n",
       "    </tr>\n",
       "    <tr>\n",
       "      <th>4</th>\n",
       "      <td>9041</td>\n",
       "      <td>366</td>\n",
       "      <td>3.0</td>\n",
       "      <td>833375837</td>\n",
       "    </tr>\n",
       "  </tbody>\n",
       "</table>\n",
       "</div>"
      ],
      "text/plain": [
       "   userId  movieId  rating   timestamp\n",
       "0    5163    57669     4.0  1518349992\n",
       "1  106343        5     4.5  1206238739\n",
       "2  146790     5459     5.0  1076215539\n",
       "3  106362    32296     2.0  1423042565\n",
       "4    9041      366     3.0   833375837"
      ]
     },
     "execution_count": 25,
     "metadata": {},
     "output_type": "execute_result"
    }
   ],
   "source": [
    "train.head()"
   ]
  },
  {
   "cell_type": "code",
   "execution_count": 26,
   "id": "86bfd38c",
   "metadata": {
    "execution": {
     "iopub.execute_input": "2022-07-15T06:02:50.418120Z",
     "iopub.status.busy": "2022-07-15T06:02:50.417726Z",
     "iopub.status.idle": "2022-07-15T06:02:50.936983Z",
     "shell.execute_reply": "2022-07-15T06:02:50.935939Z"
    },
    "papermill": {
     "duration": 0.543722,
     "end_time": "2022-07-15T06:02:50.939630",
     "exception": false,
     "start_time": "2022-07-15T06:02:50.395908",
     "status": "completed"
    },
    "tags": []
   },
   "outputs": [],
   "source": [
    "user_count = train.groupby(['userId']).count().reset_index()"
   ]
  },
  {
   "cell_type": "code",
   "execution_count": 27,
   "id": "8e4644a2",
   "metadata": {
    "execution": {
     "iopub.execute_input": "2022-07-15T06:02:50.983709Z",
     "iopub.status.busy": "2022-07-15T06:02:50.983286Z",
     "iopub.status.idle": "2022-07-15T06:02:50.994402Z",
     "shell.execute_reply": "2022-07-15T06:02:50.993202Z"
    },
    "papermill": {
     "duration": 0.035947,
     "end_time": "2022-07-15T06:02:50.996681",
     "exception": false,
     "start_time": "2022-07-15T06:02:50.960734",
     "status": "completed"
    },
    "tags": []
   },
   "outputs": [
    {
     "data": {
      "text/html": [
       "<div>\n",
       "<style scoped>\n",
       "    .dataframe tbody tr th:only-of-type {\n",
       "        vertical-align: middle;\n",
       "    }\n",
       "\n",
       "    .dataframe tbody tr th {\n",
       "        vertical-align: top;\n",
       "    }\n",
       "\n",
       "    .dataframe thead th {\n",
       "        text-align: right;\n",
       "    }\n",
       "</style>\n",
       "<table border=\"1\" class=\"dataframe\">\n",
       "  <thead>\n",
       "    <tr style=\"text-align: right;\">\n",
       "      <th></th>\n",
       "      <th>userId</th>\n",
       "      <th>movieId</th>\n",
       "      <th>rating</th>\n",
       "      <th>timestamp</th>\n",
       "    </tr>\n",
       "  </thead>\n",
       "  <tbody>\n",
       "    <tr>\n",
       "      <th>0</th>\n",
       "      <td>1</td>\n",
       "      <td>28</td>\n",
       "      <td>28</td>\n",
       "      <td>28</td>\n",
       "    </tr>\n",
       "    <tr>\n",
       "      <th>1</th>\n",
       "      <td>2</td>\n",
       "      <td>72</td>\n",
       "      <td>72</td>\n",
       "      <td>72</td>\n",
       "    </tr>\n",
       "    <tr>\n",
       "      <th>2</th>\n",
       "      <td>3</td>\n",
       "      <td>251</td>\n",
       "      <td>251</td>\n",
       "      <td>251</td>\n",
       "    </tr>\n",
       "  </tbody>\n",
       "</table>\n",
       "</div>"
      ],
      "text/plain": [
       "   userId  movieId  rating  timestamp\n",
       "0       1       28      28         28\n",
       "1       2       72      72         72\n",
       "2       3      251     251        251"
      ]
     },
     "execution_count": 27,
     "metadata": {},
     "output_type": "execute_result"
    }
   ],
   "source": [
    "user_count.head(3)"
   ]
  },
  {
   "cell_type": "code",
   "execution_count": 28,
   "id": "69b0e032",
   "metadata": {
    "execution": {
     "iopub.execute_input": "2022-07-15T06:02:51.040836Z",
     "iopub.status.busy": "2022-07-15T06:02:51.040463Z",
     "iopub.status.idle": "2022-07-15T06:02:51.058202Z",
     "shell.execute_reply": "2022-07-15T06:02:51.057087Z"
    },
    "papermill": {
     "duration": 0.042905,
     "end_time": "2022-07-15T06:02:51.060613",
     "exception": false,
     "start_time": "2022-07-15T06:02:51.017708",
     "status": "completed"
    },
    "tags": []
   },
   "outputs": [
    {
     "data": {
      "text/plain": [
       "count    162541.000000\n",
       "mean         61.523173\n",
       "std         107.410889\n",
       "min           1.000000\n",
       "25%          14.000000\n",
       "50%          28.000000\n",
       "75%          65.000000\n",
       "max       12952.000000\n",
       "Name: rating, dtype: float64"
      ]
     },
     "execution_count": 28,
     "metadata": {},
     "output_type": "execute_result"
    }
   ],
   "source": [
    "user_count['rating'].describe()"
   ]
  },
  {
   "cell_type": "code",
   "execution_count": 29,
   "id": "bb993317",
   "metadata": {
    "execution": {
     "iopub.execute_input": "2022-07-15T06:02:51.104557Z",
     "iopub.status.busy": "2022-07-15T06:02:51.104174Z",
     "iopub.status.idle": "2022-07-15T06:02:53.588089Z",
     "shell.execute_reply": "2022-07-15T06:02:53.587017Z"
    },
    "papermill": {
     "duration": 2.508588,
     "end_time": "2022-07-15T06:02:53.590498",
     "exception": false,
     "start_time": "2022-07-15T06:02:51.081910",
     "status": "completed"
    },
    "tags": []
   },
   "outputs": [
    {
     "data": {
      "image/png": "[encoded data removed]",
      "text/plain": [
       "<Figure size 432x288 with 1 Axes>"
      ]
     },
     "metadata": {},
     "output_type": "display_data"
    }
   ],
   "source": [
    "x = user_count['userId'].to_list()\n",
    "y = user_count['movieId'].to_list()\n",
    "mean = user_count['movieId'].mean()\n",
    "fig = plt.figure()\n",
    "ax = fig.add_subplot()\n",
    "#ax.plot(x,mean, color = 'lightblue', linewidth = 3)\n",
    "ax.scatter (x,y, color = 'darkgreen', marker = '*')\n",
    "ax.axhline(mean, color = 'red')\n",
    "#ax.set_xlim(1, 6.5)\n",
    "plt.show()"
   ]
  },
  {
   "cell_type": "markdown",
   "id": "f22c1ee0",
   "metadata": {
    "papermill": {
     "duration": 0.021085,
     "end_time": "2022-07-15T06:02:53.633108",
     "exception": false,
     "start_time": "2022-07-15T06:02:53.612023",
     "status": "completed"
    },
    "tags": []
   },
   "source": [
    "#### Observations\n",
    "\n",
    "It was observed that:\n",
    "* There were users who rated only 1 movie, and one who rated 12,952 movies. The mean number of movies rated per user was 61"
   ]
  },
  {
   "cell_type": "markdown",
   "id": "b77cc4ad",
   "metadata": {
    "papermill": {
     "duration": 0.021132,
     "end_time": "2022-07-15T06:02:53.675725",
     "exception": false,
     "start_time": "2022-07-15T06:02:53.654593",
     "status": "completed"
    },
    "tags": []
   },
   "source": [
    "### Q4: What are the number of reviews per movie?"
   ]
  },
  {
   "cell_type": "code",
   "execution_count": 30,
   "id": "c5e0d4a2",
   "metadata": {
    "execution": {
     "iopub.execute_input": "2022-07-15T06:02:53.720409Z",
     "iopub.status.busy": "2022-07-15T06:02:53.719725Z",
     "iopub.status.idle": "2022-07-15T06:02:54.078681Z",
     "shell.execute_reply": "2022-07-15T06:02:54.077592Z"
    },
    "papermill": {
     "duration": 0.383799,
     "end_time": "2022-07-15T06:02:54.080984",
     "exception": false,
     "start_time": "2022-07-15T06:02:53.697185",
     "status": "completed"
    },
    "tags": []
   },
   "outputs": [
    {
     "data": {
      "text/html": [
       "<div>\n",
       "<style scoped>\n",
       "    .dataframe tbody tr th:only-of-type {\n",
       "        vertical-align: middle;\n",
       "    }\n",
       "\n",
       "    .dataframe tbody tr th {\n",
       "        vertical-align: top;\n",
       "    }\n",
       "\n",
       "    .dataframe thead th {\n",
       "        text-align: right;\n",
       "    }\n",
       "</style>\n",
       "<table border=\"1\" class=\"dataframe\">\n",
       "  <thead>\n",
       "    <tr style=\"text-align: right;\">\n",
       "      <th></th>\n",
       "      <th>movieId</th>\n",
       "      <th>userId</th>\n",
       "      <th>rating</th>\n",
       "      <th>timestamp</th>\n",
       "    </tr>\n",
       "  </thead>\n",
       "  <tbody>\n",
       "    <tr>\n",
       "      <th>0</th>\n",
       "      <td>1</td>\n",
       "      <td>23062</td>\n",
       "      <td>23062</td>\n",
       "      <td>23062</td>\n",
       "    </tr>\n",
       "    <tr>\n",
       "      <th>1</th>\n",
       "      <td>2</td>\n",
       "      <td>9654</td>\n",
       "      <td>9654</td>\n",
       "      <td>9654</td>\n",
       "    </tr>\n",
       "    <tr>\n",
       "      <th>2</th>\n",
       "      <td>3</td>\n",
       "      <td>4727</td>\n",
       "      <td>4727</td>\n",
       "      <td>4727</td>\n",
       "    </tr>\n",
       "  </tbody>\n",
       "</table>\n",
       "</div>"
      ],
      "text/plain": [
       "   movieId  userId  rating  timestamp\n",
       "0        1   23062   23062      23062\n",
       "1        2    9654    9654       9654\n",
       "2        3    4727    4727       4727"
      ]
     },
     "execution_count": 30,
     "metadata": {},
     "output_type": "execute_result"
    }
   ],
   "source": [
    "# using the movieId and rating columns in the train dataframe\n",
    "# and grouping by movieId\n",
    "movie_count = train.groupby(['movieId']).count().reset_index()\n",
    "movie_count.head(3)"
   ]
  },
  {
   "cell_type": "code",
   "execution_count": 31,
   "id": "28ac7ade",
   "metadata": {
    "execution": {
     "iopub.execute_input": "2022-07-15T06:02:54.125656Z",
     "iopub.status.busy": "2022-07-15T06:02:54.125242Z",
     "iopub.status.idle": "2022-07-15T06:02:54.138256Z",
     "shell.execute_reply": "2022-07-15T06:02:54.137196Z"
    },
    "papermill": {
     "duration": 0.03803,
     "end_time": "2022-07-15T06:02:54.140471",
     "exception": false,
     "start_time": "2022-07-15T06:02:54.102441",
     "status": "completed"
    },
    "tags": []
   },
   "outputs": [
    {
     "data": {
      "text/plain": [
       "count    48213.000000\n",
       "mean       207.413727\n",
       "std       1092.768777\n",
       "min          1.000000\n",
       "25%          1.000000\n",
       "50%          4.000000\n",
       "75%         26.000000\n",
       "max      32831.000000\n",
       "Name: rating, dtype: float64"
      ]
     },
     "execution_count": 31,
     "metadata": {},
     "output_type": "execute_result"
    }
   ],
   "source": [
    "movie_count['rating'].describe()"
   ]
  },
  {
   "cell_type": "code",
   "execution_count": 32,
   "id": "de83eed4",
   "metadata": {
    "execution": {
     "iopub.execute_input": "2022-07-15T06:02:54.186211Z",
     "iopub.status.busy": "2022-07-15T06:02:54.185055Z",
     "iopub.status.idle": "2022-07-15T06:02:54.198124Z",
     "shell.execute_reply": "2022-07-15T06:02:54.197040Z"
    },
    "papermill": {
     "duration": 0.038035,
     "end_time": "2022-07-15T06:02:54.200282",
     "exception": false,
     "start_time": "2022-07-15T06:02:54.162247",
     "status": "completed"
    },
    "tags": []
   },
   "outputs": [
    {
     "data": {
      "text/html": [
       "<div>\n",
       "<style scoped>\n",
       "    .dataframe tbody tr th:only-of-type {\n",
       "        vertical-align: middle;\n",
       "    }\n",
       "\n",
       "    .dataframe tbody tr th {\n",
       "        vertical-align: top;\n",
       "    }\n",
       "\n",
       "    .dataframe thead th {\n",
       "        text-align: right;\n",
       "    }\n",
       "</style>\n",
       "<table border=\"1\" class=\"dataframe\">\n",
       "  <thead>\n",
       "    <tr style=\"text-align: right;\">\n",
       "      <th></th>\n",
       "      <th>movieId</th>\n",
       "      <th>userId</th>\n",
       "      <th>rating</th>\n",
       "      <th>timestamp</th>\n",
       "    </tr>\n",
       "  </thead>\n",
       "  <tbody>\n",
       "    <tr>\n",
       "      <th>314</th>\n",
       "      <td>318</td>\n",
       "      <td>32831</td>\n",
       "      <td>32831</td>\n",
       "      <td>32831</td>\n",
       "    </tr>\n",
       "  </tbody>\n",
       "</table>\n",
       "</div>"
      ],
      "text/plain": [
       "     movieId  userId  rating  timestamp\n",
       "314      318   32831   32831      32831"
      ]
     },
     "execution_count": 32,
     "metadata": {},
     "output_type": "execute_result"
    }
   ],
   "source": [
    "movie_count[movie_count['rating'] == 32831]"
   ]
  },
  {
   "cell_type": "code",
   "execution_count": 33,
   "id": "bd9df8b7",
   "metadata": {
    "execution": {
     "iopub.execute_input": "2022-07-15T06:02:54.245709Z",
     "iopub.status.busy": "2022-07-15T06:02:54.245354Z",
     "iopub.status.idle": "2022-07-15T06:02:54.255106Z",
     "shell.execute_reply": "2022-07-15T06:02:54.254382Z"
    },
    "papermill": {
     "duration": 0.034847,
     "end_time": "2022-07-15T06:02:54.257057",
     "exception": false,
     "start_time": "2022-07-15T06:02:54.222210",
     "status": "completed"
    },
    "tags": []
   },
   "outputs": [
    {
     "data": {
      "text/plain": [
       "movieId      12537\n",
       "userId       12537\n",
       "rating       12537\n",
       "timestamp    12537\n",
       "dtype: int64"
      ]
     },
     "execution_count": 33,
     "metadata": {},
     "output_type": "execute_result"
    }
   ],
   "source": [
    "movie_count[movie_count['rating'] <= 1].count()"
   ]
  },
  {
   "cell_type": "code",
   "execution_count": 34,
   "id": "c72b2b10",
   "metadata": {
    "execution": {
     "iopub.execute_input": "2022-07-15T06:02:54.302300Z",
     "iopub.status.busy": "2022-07-15T06:02:54.301896Z",
     "iopub.status.idle": "2022-07-15T06:02:55.124774Z",
     "shell.execute_reply": "2022-07-15T06:02:55.123409Z"
    },
    "papermill": {
     "duration": 0.848444,
     "end_time": "2022-07-15T06:02:55.127370",
     "exception": false,
     "start_time": "2022-07-15T06:02:54.278926",
     "status": "completed"
    },
    "tags": []
   },
   "outputs": [
    {
     "data": {
      "image/png": "[encoded data removed]",
      "text/plain": [
       "<Figure size 432x288 with 1 Axes>"
      ]
     },
     "metadata": {},
     "output_type": "display_data"
    }
   ],
   "source": [
    "x = movie_count['movieId'].to_list()\n",
    "y = movie_count['rating'].to_list()\n",
    "mean = user_count['rating'].mean()\n",
    "fig = plt.figure()\n",
    "ax = fig.add_subplot()\n",
    "#ax.plot(x,mean, color = 'lightblue', linewidth = 3)\n",
    "ax.scatter (x,y, color = 'darkgreen', marker = '*')\n",
    "ax.axhline(mean, color = 'red')\n",
    "#ax.set_xlim(1, 6.5)\n",
    "plt.show()"
   ]
  },
  {
   "cell_type": "markdown",
   "id": "0a03d97c",
   "metadata": {
    "papermill": {
     "duration": 0.023905,
     "end_time": "2022-07-15T06:02:55.175345",
     "exception": false,
     "start_time": "2022-07-15T06:02:55.151440",
     "status": "completed"
    },
    "tags": []
   },
   "source": []
  },
  {
   "cell_type": "markdown",
   "id": "22f31dbd",
   "metadata": {
    "papermill": {
     "duration": 0.022215,
     "end_time": "2022-07-15T06:02:55.220001",
     "exception": false,
     "start_time": "2022-07-15T06:02:55.197786",
     "status": "completed"
    },
    "tags": []
   },
   "source": [
    "#### Observations\n",
    "\n",
    "It was observed that:\n",
    "* All the movies have ratings, as the minimum value of ratings in the movies_count dataframe is 1.\n",
    "* 12,537 movies have number of ratings equal to one. This equates to 26% of the total number of movies present. This is a statistically significant number and can therefore have detrimental effects to the performance of the model\n",
    "* The highest number of reviews for a movie is 32,831 reviews and is for movie with movieId 318.\n"
   ]
  },
  {
   "cell_type": "markdown",
   "id": "dcb1a240",
   "metadata": {
    "papermill": {
     "duration": 0.022192,
     "end_time": "2022-07-15T06:02:55.264976",
     "exception": false,
     "start_time": "2022-07-15T06:02:55.242784",
     "status": "completed"
    },
    "tags": []
   },
   "source": [
    "### Q5: What are the number of movies per rating level (0 to 5 at steps of 0.5)?"
   ]
  },
  {
   "cell_type": "code",
   "execution_count": 35,
   "id": "49800329",
   "metadata": {
    "execution": {
     "iopub.execute_input": "2022-07-15T06:02:55.311997Z",
     "iopub.status.busy": "2022-07-15T06:02:55.311333Z",
     "iopub.status.idle": "2022-07-15T06:02:55.650433Z",
     "shell.execute_reply": "2022-07-15T06:02:55.649387Z"
    },
    "papermill": {
     "duration": 0.36529,
     "end_time": "2022-07-15T06:02:55.652753",
     "exception": false,
     "start_time": "2022-07-15T06:02:55.287463",
     "status": "completed"
    },
    "tags": []
   },
   "outputs": [
    {
     "data": {
      "text/html": [
       "<div>\n",
       "<style scoped>\n",
       "    .dataframe tbody tr th:only-of-type {\n",
       "        vertical-align: middle;\n",
       "    }\n",
       "\n",
       "    .dataframe tbody tr th {\n",
       "        vertical-align: top;\n",
       "    }\n",
       "\n",
       "    .dataframe thead th {\n",
       "        text-align: right;\n",
       "    }\n",
       "</style>\n",
       "<table border=\"1\" class=\"dataframe\">\n",
       "  <thead>\n",
       "    <tr style=\"text-align: right;\">\n",
       "      <th></th>\n",
       "      <th>rating</th>\n",
       "      <th>userId</th>\n",
       "      <th>movieId</th>\n",
       "      <th>timestamp</th>\n",
       "    </tr>\n",
       "  </thead>\n",
       "  <tbody>\n",
       "    <tr>\n",
       "      <th>0</th>\n",
       "      <td>0.5</td>\n",
       "      <td>157571</td>\n",
       "      <td>157571</td>\n",
       "      <td>157571</td>\n",
       "    </tr>\n",
       "    <tr>\n",
       "      <th>1</th>\n",
       "      <td>1.0</td>\n",
       "      <td>311213</td>\n",
       "      <td>311213</td>\n",
       "      <td>311213</td>\n",
       "    </tr>\n",
       "    <tr>\n",
       "      <th>2</th>\n",
       "      <td>1.5</td>\n",
       "      <td>159731</td>\n",
       "      <td>159731</td>\n",
       "      <td>159731</td>\n",
       "    </tr>\n",
       "  </tbody>\n",
       "</table>\n",
       "</div>"
      ],
      "text/plain": [
       "   rating  userId  movieId  timestamp\n",
       "0     0.5  157571   157571     157571\n",
       "1     1.0  311213   311213     311213\n",
       "2     1.5  159731   159731     159731"
      ]
     },
     "execution_count": 35,
     "metadata": {},
     "output_type": "execute_result"
    }
   ],
   "source": [
    "ratings_count = train.groupby(['rating']).count().reset_index()\n",
    "ratings_count.head(3)"
   ]
  },
  {
   "cell_type": "code",
   "execution_count": 36,
   "id": "73f9eaed",
   "metadata": {
    "execution": {
     "iopub.execute_input": "2022-07-15T06:02:55.700608Z",
     "iopub.status.busy": "2022-07-15T06:02:55.699710Z",
     "iopub.status.idle": "2022-07-15T06:02:55.726900Z",
     "shell.execute_reply": "2022-07-15T06:02:55.725758Z"
    },
    "papermill": {
     "duration": 0.053672,
     "end_time": "2022-07-15T06:02:55.729362",
     "exception": false,
     "start_time": "2022-07-15T06:02:55.675690",
     "status": "completed"
    },
    "tags": []
   },
   "outputs": [
    {
     "data": {
      "text/html": [
       "<div>\n",
       "<style scoped>\n",
       "    .dataframe tbody tr th:only-of-type {\n",
       "        vertical-align: middle;\n",
       "    }\n",
       "\n",
       "    .dataframe tbody tr th {\n",
       "        vertical-align: top;\n",
       "    }\n",
       "\n",
       "    .dataframe thead th {\n",
       "        text-align: right;\n",
       "    }\n",
       "</style>\n",
       "<table border=\"1\" class=\"dataframe\">\n",
       "  <thead>\n",
       "    <tr style=\"text-align: right;\">\n",
       "      <th></th>\n",
       "      <th>rating</th>\n",
       "      <th>userId</th>\n",
       "      <th>movieId</th>\n",
       "      <th>timestamp</th>\n",
       "    </tr>\n",
       "  </thead>\n",
       "  <tbody>\n",
       "    <tr>\n",
       "      <th>count</th>\n",
       "      <td>10.000000</td>\n",
       "      <td>1.000000e+01</td>\n",
       "      <td>1.000000e+01</td>\n",
       "      <td>1.000000e+01</td>\n",
       "    </tr>\n",
       "    <tr>\n",
       "      <th>mean</th>\n",
       "      <td>2.750000</td>\n",
       "      <td>1.000004e+06</td>\n",
       "      <td>1.000004e+06</td>\n",
       "      <td>1.000004e+06</td>\n",
       "    </tr>\n",
       "    <tr>\n",
       "      <th>std</th>\n",
       "      <td>1.513825</td>\n",
       "      <td>8.294318e+05</td>\n",
       "      <td>8.294318e+05</td>\n",
       "      <td>8.294318e+05</td>\n",
       "    </tr>\n",
       "    <tr>\n",
       "      <th>min</th>\n",
       "      <td>0.500000</td>\n",
       "      <td>1.575710e+05</td>\n",
       "      <td>1.575710e+05</td>\n",
       "      <td>1.575710e+05</td>\n",
       "    </tr>\n",
       "    <tr>\n",
       "      <th>25%</th>\n",
       "      <td>1.625000</td>\n",
       "      <td>3.598042e+05</td>\n",
       "      <td>3.598042e+05</td>\n",
       "      <td>3.598042e+05</td>\n",
       "    </tr>\n",
       "    <tr>\n",
       "      <th>50%</th>\n",
       "      <td>2.750000</td>\n",
       "      <td>7.686685e+05</td>\n",
       "      <td>7.686685e+05</td>\n",
       "      <td>7.686685e+05</td>\n",
       "    </tr>\n",
       "    <tr>\n",
       "      <th>75%</th>\n",
       "      <td>3.875000</td>\n",
       "      <td>1.401583e+06</td>\n",
       "      <td>1.401583e+06</td>\n",
       "      <td>1.401583e+06</td>\n",
       "    </tr>\n",
       "    <tr>\n",
       "      <th>max</th>\n",
       "      <td>5.000000</td>\n",
       "      <td>2.652977e+06</td>\n",
       "      <td>2.652977e+06</td>\n",
       "      <td>2.652977e+06</td>\n",
       "    </tr>\n",
       "  </tbody>\n",
       "</table>\n",
       "</div>"
      ],
      "text/plain": [
       "          rating        userId       movieId     timestamp\n",
       "count  10.000000  1.000000e+01  1.000000e+01  1.000000e+01\n",
       "mean    2.750000  1.000004e+06  1.000004e+06  1.000004e+06\n",
       "std     1.513825  8.294318e+05  8.294318e+05  8.294318e+05\n",
       "min     0.500000  1.575710e+05  1.575710e+05  1.575710e+05\n",
       "25%     1.625000  3.598042e+05  3.598042e+05  3.598042e+05\n",
       "50%     2.750000  7.686685e+05  7.686685e+05  7.686685e+05\n",
       "75%     3.875000  1.401583e+06  1.401583e+06  1.401583e+06\n",
       "max     5.000000  2.652977e+06  2.652977e+06  2.652977e+06"
      ]
     },
     "execution_count": 36,
     "metadata": {},
     "output_type": "execute_result"
    }
   ],
   "source": [
    "ratings_count.describe()"
   ]
  },
  {
   "cell_type": "code",
   "execution_count": 37,
   "id": "706e51c0",
   "metadata": {
    "execution": {
     "iopub.execute_input": "2022-07-15T06:02:55.777545Z",
     "iopub.status.busy": "2022-07-15T06:02:55.777165Z",
     "iopub.status.idle": "2022-07-15T06:02:56.014270Z",
     "shell.execute_reply": "2022-07-15T06:02:56.013196Z"
    },
    "papermill": {
     "duration": 0.264185,
     "end_time": "2022-07-15T06:02:56.016591",
     "exception": false,
     "start_time": "2022-07-15T06:02:55.752406",
     "status": "completed"
    },
    "tags": []
   },
   "outputs": [
    {
     "data": {
      "image/png": "[encoded data removed]",
      "text/plain": [
       "<Figure size 432x288 with 1 Axes>"
      ]
     },
     "metadata": {},
     "output_type": "display_data"
    }
   ],
   "source": [
    "x = ratings_count['rating'].to_list()\n",
    "y =ratings_count['movieId'].to_list()\n",
    "mean = ratings_count['rating'].mean()\n",
    "fig = plt.figure()\n",
    "ax = fig.add_subplot(111)\n",
    "#ax.plot(x,mean, color = 'lightblue', linewidth = 3)\n",
    "ax.barh (x,y, color = 'darkgreen')\n",
    "ax.axvline(mean, color = 'red')\n",
    "#ax.set_xlim(1, 6.5)\n",
    "plt.show()"
   ]
  },
  {
   "cell_type": "markdown",
   "id": "6ce5b3e8",
   "metadata": {
    "papermill": {
     "duration": 0.022912,
     "end_time": "2022-07-15T06:02:56.062668",
     "exception": false,
     "start_time": "2022-07-15T06:02:56.039756",
     "status": "completed"
    },
    "tags": []
   },
   "source": [
    "#### Observations\n",
    "\n",
    "* A majority of the movies have ratings between 3 and 4, while the least being 0.5 to 2.5.\n",
    "* the mean number of movies per rating is 1,000,004, where the minimum is 157,571 while the maximum is 2,652,977. "
   ]
  },
  {
   "cell_type": "markdown",
   "id": "bc587048",
   "metadata": {
    "papermill": {
     "duration": 0.022757,
     "end_time": "2022-07-15T06:02:56.108678",
     "exception": false,
     "start_time": "2022-07-15T06:02:56.085921",
     "status": "completed"
    },
    "tags": []
   },
   "source": [
    "### Q6: Which movies were highly rated by most of the users?"
   ]
  },
  {
   "cell_type": "code",
   "execution_count": 38,
   "id": "12f979a6",
   "metadata": {
    "execution": {
     "iopub.execute_input": "2022-07-15T06:02:56.156676Z",
     "iopub.status.busy": "2022-07-15T06:02:56.156308Z",
     "iopub.status.idle": "2022-07-15T06:02:56.160517Z",
     "shell.execute_reply": "2022-07-15T06:02:56.159392Z"
    },
    "papermill": {
     "duration": 0.030813,
     "end_time": "2022-07-15T06:02:56.162664",
     "exception": false,
     "start_time": "2022-07-15T06:02:56.131851",
     "status": "completed"
    },
    "tags": []
   },
   "outputs": [],
   "source": [
    "# Grouping by rating and then by the \n"
   ]
  },
  {
   "cell_type": "markdown",
   "id": "5f9c796a",
   "metadata": {
    "papermill": {
     "duration": 0.02325,
     "end_time": "2022-07-15T06:02:56.209215",
     "exception": false,
     "start_time": "2022-07-15T06:02:56.185965",
     "status": "completed"
    },
    "tags": []
   },
   "source": [
    "### Q7: Are there outliers in users vs movies and ratings vs movies?"
   ]
  },
  {
   "cell_type": "code",
   "execution_count": 39,
   "id": "38a24bd9",
   "metadata": {
    "execution": {
     "iopub.execute_input": "2022-07-15T06:02:56.257858Z",
     "iopub.status.busy": "2022-07-15T06:02:56.256881Z",
     "iopub.status.idle": "2022-07-15T06:02:57.202394Z",
     "shell.execute_reply": "2022-07-15T06:02:57.201228Z"
    },
    "papermill": {
     "duration": 0.972441,
     "end_time": "2022-07-15T06:02:57.204836",
     "exception": false,
     "start_time": "2022-07-15T06:02:56.232395",
     "status": "completed"
    },
    "tags": []
   },
   "outputs": [
    {
     "data": {
      "image/png": "[encoded data removed]",
      "text/plain": [
       "<Figure size 432x288 with 1 Axes>"
      ]
     },
     "metadata": {},
     "output_type": "display_data"
    }
   ],
   "source": [
    "# users vs movies\n",
    "# generating a candlestick\n",
    "\n",
    "x = user_count['movieId'].to_list()\n",
    "fig = plt.figure()\n",
    "ax = fig.add_subplot(111)\n",
    "#ax.plot(x,mean, color = 'lightblue', linewidth = 3)\n",
    "ax.boxplot (x)\n",
    "ax.axvline(mean, color = 'red')\n",
    "#ax.set_xlim(1, 6.5)\n",
    "plt.show()\n"
   ]
  },
  {
   "cell_type": "code",
   "execution_count": 40,
   "id": "954a0411",
   "metadata": {
    "execution": {
     "iopub.execute_input": "2022-07-15T06:02:57.254052Z",
     "iopub.status.busy": "2022-07-15T06:02:57.253378Z",
     "iopub.status.idle": "2022-07-15T06:02:57.656560Z",
     "shell.execute_reply": "2022-07-15T06:02:57.655445Z"
    },
    "papermill": {
     "duration": 0.430729,
     "end_time": "2022-07-15T06:02:57.659107",
     "exception": false,
     "start_time": "2022-07-15T06:02:57.228378",
     "status": "completed"
    },
    "tags": []
   },
   "outputs": [
    {
     "data": {
      "image/png": "[encoded data removed]",
      "text/plain": [
       "<Figure size 432x288 with 1 Axes>"
      ]
     },
     "metadata": {},
     "output_type": "display_data"
    }
   ],
   "source": [
    "#ratings vs movies\n",
    "#generating candle sticks\n",
    "\n",
    "x = movie_count['rating'].to_list()\n",
    "fig = plt.figure()\n",
    "ax = fig.add_subplot(111)\n",
    "#ax.plot(x,mean, color = 'lightblue', linewidth = 3)\n",
    "ax.boxplot (x)\n",
    "ax.axvline(mean, color = 'red')\n",
    "#ax.set_xlim(1, 6.5)\n",
    "plt.show()"
   ]
  },
  {
   "cell_type": "markdown",
   "id": "3bc4ae6a",
   "metadata": {
    "papermill": {
     "duration": 0.023548,
     "end_time": "2022-07-15T06:02:57.706511",
     "exception": false,
     "start_time": "2022-07-15T06:02:57.682963",
     "status": "completed"
    },
    "tags": []
   },
   "source": []
  },
  {
   "cell_type": "markdown",
   "id": "2545414f",
   "metadata": {
    "papermill": {
     "duration": 0.023295,
     "end_time": "2022-07-15T06:02:57.753691",
     "exception": false,
     "start_time": "2022-07-15T06:02:57.730396",
     "status": "completed"
    },
    "tags": []
   },
   "source": []
  },
  {
   "cell_type": "markdown",
   "id": "34269220",
   "metadata": {
    "papermill": {
     "duration": 0.023363,
     "end_time": "2022-07-15T06:02:57.800913",
     "exception": false,
     "start_time": "2022-07-15T06:02:57.777550",
     "status": "completed"
    },
    "tags": []
   },
   "source": [
    "## ANTICIPATED CHALLENGES\n",
    "\n",
    "The following are expected to influence the accuracy of the model:\n",
    "* Presence of newly released movies whose level of confidence of ratings is not as high as for movies that have been released earlier.\n",
    "* A new movie might not have enough ratings to match\n",
    "* A new user had not watched enough movies to enable precise matching of the user with other users."
   ]
  },
  {
   "cell_type": "markdown",
   "id": "3bb379c1",
   "metadata": {
    "papermill": {
     "duration": 0.023286,
     "end_time": "2022-07-15T06:02:57.847965",
     "exception": false,
     "start_time": "2022-07-15T06:02:57.824679",
     "status": "completed"
    },
    "tags": []
   },
   "source": []
  },
  {
   "cell_type": "code",
   "execution_count": null,
   "id": "49a29582",
   "metadata": {
    "papermill": {
     "duration": 0.023235,
     "end_time": "2022-07-15T06:02:57.895006",
     "exception": false,
     "start_time": "2022-07-15T06:02:57.871771",
     "status": "completed"
    },
    "tags": []
   },
   "outputs": [],
   "source": []
  }
 ],
 "metadata": {
  "kernelspec": {
   "display_name": "Python 3",
   "language": "python",
   "name": "python3"
  },
  "language_info": {
   "codemirror_mode": {
    "name": "ipython",
    "version": 3
   },
   "file_extension": ".py",
   "mimetype": "text/x-python",
   "name": "python",
   "nbconvert_exporter": "python",
   "pygments_lexer": "ipython3",
   "version": "3.7.12"
  },
  "papermill": {
   "default_parameters": {},
   "duration": 71.126121,
   "end_time": "2022-07-15T06:02:59.945100",
   "environment_variables": {},
   "exception": null,
   "input_path": "__notebook__.ipynb",
   "output_path": "__notebook__.ipynb",
   "parameters": {},
   "start_time": "2022-07-15T06:01:48.818979",
   "version": "2.3.4"
  }
 },
 "nbformat": 4,
 "nbformat_minor": 5
}
